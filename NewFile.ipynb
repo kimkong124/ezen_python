{
 "cells": [
  {
   "cell_type": "code",
   "execution_count": 5,
   "metadata": {},
   "outputs": [
    {
     "name": "stdout",
     "output_type": "stream",
     "text": [
      "[]\n"
     ]
    }
   ],
   "source": [
    "result=[]\n",
    "for a in range(1,11,1):\n",
    "    for b in range(1,11,1):\n",
    "        for c in range(1,11,1):\n",
    "            if a**3+b**3==c**3:\n",
    "                result.append([a,b,c])\n",
    "print(result)"
   ]
  },
  {
   "cell_type": "markdown",
   "metadata": {},
   "source": [
    "변수 값을 저장\n",
    "함수 행동\n",
    ". : ~에안에\n",
    "find/index 첫위치찾기\n",
    "없으면 -1/error\n",
    "\n",
    "함수\n",
    "func_3(*args)->*는 변수갯수미정\n",
    "매개변수 수=인자 수"
   ]
  },
  {
   "cell_type": "code",
   "execution_count": 7,
   "metadata": {},
   "outputs": [
    {
     "name": "stdout",
     "output_type": "stream",
     "text": [
      "5\n"
     ]
    }
   ],
   "source": [
    "a='Hello'\n",
    "\n",
    "print(len(a))"
   ]
  },
  {
   "cell_type": "code",
   "execution_count": 9,
   "metadata": {},
   "outputs": [
    {
     "name": "stdout",
     "output_type": "stream",
     "text": [
      "5\n"
     ]
    }
   ],
   "source": [
    "a_list=[2,3,5,7,10]\n",
    "\n",
    "#자료형 데이터는 자료의 갯수\n",
    "print(len(a_list))"
   ]
  },
  {
   "cell_type": "code",
   "execution_count": 11,
   "metadata": {},
   "outputs": [
    {
     "name": "stdout",
     "output_type": "stream",
     "text": [
      "HELLO\n",
      "hello\n"
     ]
    }
   ],
   "source": [
    "print(a.upper())\n",
    "print(a.lower())"
   ]
  },
  {
   "cell_type": "code",
   "execution_count": 14,
   "metadata": {},
   "outputs": [
    {
     "name": "stdout",
     "output_type": "stream",
     "text": [
      "   Hello world   \n"
     ]
    },
    {
     "data": {
      "text/plain": [
       "'   Hello world   '"
      ]
     },
     "execution_count": 14,
     "metadata": {},
     "output_type": "execute_result"
    }
   ],
   "source": [
    "a='   Hello world   '\n",
    "print(a)\n",
    "#print 안쓰고 출력 예외적인 부분으로 나온거임 - .ipynb (쥬피터환경)에서만 나옴.\n",
    "a"
   ]
  },
  {
   "cell_type": "code",
   "execution_count": 18,
   "metadata": {},
   "outputs": [
    {
     "data": {
      "text/plain": [
       "'Hello world'"
      ]
     },
     "execution_count": 18,
     "metadata": {},
     "output_type": "execute_result"
    }
   ],
   "source": [
    "a.lstrip()\n",
    "a.rstrip()\n",
    "a.strip()"
   ]
  },
  {
   "cell_type": "code",
   "execution_count": 20,
   "metadata": {},
   "outputs": [
    {
     "data": {
      "text/plain": [
       "'   Hi world   '"
      ]
     },
     "execution_count": 20,
     "metadata": {},
     "output_type": "execute_result"
    }
   ],
   "source": [
    "a.replace('Hello','Hi')"
   ]
  },
  {
   "cell_type": "code",
   "execution_count": 22,
   "metadata": {},
   "outputs": [
    {
     "data": {
      "text/plain": [
       "'Helloworld'"
      ]
     },
     "execution_count": 22,
     "metadata": {},
     "output_type": "execute_result"
    }
   ],
   "source": [
    "#replace 이용하여 공백제거\n",
    "a.replace(\" \",\"\")"
   ]
  },
  {
   "cell_type": "code",
   "execution_count": 24,
   "metadata": {},
   "outputs": [
    {
     "data": {
      "text/plain": [
       "'data'"
      ]
     },
     "execution_count": 24,
     "metadata": {},
     "output_type": "execute_result"
    }
   ],
   "source": [
    "b='%data%'\n",
    "\n",
    "b.strip('%')"
   ]
  },
  {
   "cell_type": "code",
   "execution_count": 26,
   "metadata": {},
   "outputs": [
    {
     "data": {
      "text/plain": [
       "['a', 'b', 'c&d']"
      ]
     },
     "execution_count": 26,
     "metadata": {},
     "output_type": "execute_result"
    }
   ],
   "source": [
    "b='a%b%c&d'\n",
    "\n",
    "b.split('%')"
   ]
  },
  {
   "cell_type": "code",
   "execution_count": 29,
   "metadata": {},
   "outputs": [
    {
     "name": "stdout",
     "output_type": "stream",
     "text": [
      "-1\n"
     ]
    },
    {
     "ename": "ValueError",
     "evalue": "substring not found",
     "output_type": "error",
     "traceback": [
      "\u001b[1;31m---------------------------------------------------------------------------\u001b[0m",
      "\u001b[1;31mValueError\u001b[0m                                Traceback (most recent call last)",
      "\u001b[1;32md:\\python_HR\\20231119\\NewFile.ipynb Cell 12\u001b[0m line \u001b[0;36m4\n\u001b[0;32m      <a href='vscode-notebook-cell:/d%3A/python_HR/20231119/NewFile.ipynb#X14sZmlsZQ%3D%3D?line=0'>1</a>\u001b[0m a\u001b[39m=\u001b[39m\u001b[39m'\u001b[39m\u001b[39mHello world\u001b[39m\u001b[39m'\u001b[39m\n\u001b[0;32m      <a href='vscode-notebook-cell:/d%3A/python_HR/20231119/NewFile.ipynb#X14sZmlsZQ%3D%3D?line=2'>3</a>\u001b[0m \u001b[39mprint\u001b[39m(a\u001b[39m.\u001b[39mfind(\u001b[39m'\u001b[39m\u001b[39ma\u001b[39m\u001b[39m'\u001b[39m))\n\u001b[1;32m----> <a href='vscode-notebook-cell:/d%3A/python_HR/20231119/NewFile.ipynb#X14sZmlsZQ%3D%3D?line=3'>4</a>\u001b[0m \u001b[39mprint\u001b[39m(a\u001b[39m.\u001b[39;49mindex(\u001b[39m'\u001b[39;49m\u001b[39ma\u001b[39;49m\u001b[39m'\u001b[39;49m))\n",
      "\u001b[1;31mValueError\u001b[0m: substring not found"
     ]
    }
   ],
   "source": [
    "a='Hello world'\n",
    "\n",
    "print(a.find('a'))\n",
    "print(a.index('a'))"
   ]
  },
  {
   "cell_type": "code",
   "execution_count": 32,
   "metadata": {},
   "outputs": [
    {
     "name": "stdout",
     "output_type": "stream",
     "text": [
      "5\n",
      "1\n",
      "\n"
     ]
    }
   ],
   "source": [
    "#최대값,최소값,평균값\n",
    "\n",
    "b_list=[1,2,3,4,5]\n",
    "\n",
    "print(max(b_list))\n",
    "print(min(b_list))\n",
    "print()"
   ]
  },
  {
   "cell_type": "code",
   "execution_count": 33,
   "metadata": {},
   "outputs": [],
   "source": [
    "#매개변수가 존재하지 않는 함수\n",
    "def func_1():\n",
    "    result='Hello'\n",
    "    return result\n"
   ]
  },
  {
   "cell_type": "code",
   "execution_count": 38,
   "metadata": {},
   "outputs": [
    {
     "name": "stdout",
     "output_type": "stream",
     "text": [
      "8\n",
      "helloworld\n"
     ]
    }
   ],
   "source": [
    "#매개변수가 존재하는 함수\n",
    "def func_2(a,b):\n",
    "    result=a+b\n",
    "    return result\n",
    "\n",
    "print(func_2(5,3))\n",
    "print(func_2('hello','world'))"
   ]
  },
  {
   "cell_type": "code",
   "execution_count": 39,
   "metadata": {},
   "outputs": [
    {
     "ename": "TypeError",
     "evalue": "func_2() missing 1 required positional argument: 'b'",
     "output_type": "error",
     "traceback": [
      "\u001b[1;31m---------------------------------------------------------------------------\u001b[0m",
      "\u001b[1;31mTypeError\u001b[0m                                 Traceback (most recent call last)",
      "\u001b[1;32md:\\python_HR\\20231119\\NewFile.ipynb Cell 16\u001b[0m line \u001b[0;36m1\n\u001b[1;32m----> <a href='vscode-notebook-cell:/d%3A/python_HR/20231119/NewFile.ipynb#X21sZmlsZQ%3D%3D?line=0'>1</a>\u001b[0m \u001b[39mprint\u001b[39m(func_2(\u001b[39m1\u001b[39;49m))\n",
      "\u001b[1;31mTypeError\u001b[0m: func_2() missing 1 required positional argument: 'b'"
     ]
    }
   ],
   "source": [
    "print(func_2(1))"
   ]
  },
  {
   "cell_type": "code",
   "execution_count": 41,
   "metadata": {},
   "outputs": [
    {
     "ename": "TypeError",
     "evalue": "func_2() takes 2 positional arguments but 3 were given",
     "output_type": "error",
     "traceback": [
      "\u001b[1;31m---------------------------------------------------------------------------\u001b[0m",
      "\u001b[1;31mTypeError\u001b[0m                                 Traceback (most recent call last)",
      "\u001b[1;32md:\\python_HR\\20231119\\NewFile.ipynb Cell 17\u001b[0m line \u001b[0;36m1\n\u001b[1;32m----> <a href='vscode-notebook-cell:/d%3A/python_HR/20231119/NewFile.ipynb#X22sZmlsZQ%3D%3D?line=0'>1</a>\u001b[0m \u001b[39mprint\u001b[39m(func_2(\u001b[39m1\u001b[39;49m,\u001b[39m2\u001b[39;49m,\u001b[39m3\u001b[39;49m))\n",
      "\u001b[1;31mTypeError\u001b[0m: func_2() takes 2 positional arguments but 3 were given"
     ]
    }
   ],
   "source": [
    "print(func_2(1,2,3))"
   ]
  },
  {
   "cell_type": "code",
   "execution_count": 44,
   "metadata": {},
   "outputs": [
    {
     "name": "stdout",
     "output_type": "stream",
     "text": [
      "10\n",
      "100\n"
     ]
    }
   ],
   "source": [
    "def func_3(*args):\n",
    "    result=max(args)\n",
    "    return result\n",
    "\n",
    "print(func_3(1,5,10))\n",
    "print(func_3(1,5,10,100,30))"
   ]
  },
  {
   "cell_type": "code",
   "execution_count": 46,
   "metadata": {},
   "outputs": [
    {
     "name": "stdout",
     "output_type": "stream",
     "text": [
      "6\n",
      "100\n"
     ]
    }
   ],
   "source": [
    "#위랑 같은 최대값나오는 방법 / 리스트로 묶으면서 하나의 변수값이됨\n",
    "\n",
    "def func_4(a):\n",
    "    result=max(a)\n",
    "    return result\n",
    "\n",
    "print(func_4([3,5,6]))\n",
    "print(func_4([3,50,100,6]))"
   ]
  },
  {
   "cell_type": "code",
   "execution_count": 47,
   "metadata": {},
   "outputs": [
    {
     "name": "stdout",
     "output_type": "stream",
     "text": [
      "12\n",
      "28\n"
     ]
    }
   ],
   "source": [
    "def func_5(a,b=3):\n",
    "    result=a*b\n",
    "    return result\n",
    "\n",
    "print(func_5(4))\n",
    "#나는 b=3말고 7넣을래\n",
    "print(func_5(4,7))"
   ]
  },
  {
   "cell_type": "code",
   "execution_count": 51,
   "metadata": {},
   "outputs": [
    {
     "name": "stdout",
     "output_type": "stream",
     "text": [
      "2.5\n",
      "5.0\n",
      "6.666666666666667\n",
      "1.6666666666666667\n"
     ]
    }
   ],
   "source": [
    "def func_6(a=5,b=2):\n",
    "    result=a/b\n",
    "    return result\n",
    "\n",
    "print(func_6())\n",
    "print(func_6(10))\n",
    "print(func_6(20,3))\n",
    "print(func_6(b=3))"
   ]
  },
  {
   "cell_type": "code",
   "execution_count": 52,
   "metadata": {},
   "outputs": [],
   "source": [
    "def func_7(x,y):\n",
    "    result=0\n",
    "    for i in range(x,y+1,1):\n",
    "        result+=i\n",
    "    return result\n",
    " #return은 행동종료 이 뒤에 문법은 소용없음"
   ]
  },
  {
   "cell_type": "code",
   "execution_count": 53,
   "metadata": {},
   "outputs": [
    {
     "name": "stdout",
     "output_type": "stream",
     "text": [
      "55\n"
     ]
    }
   ],
   "source": [
    "print(func_7(1,10))"
   ]
  },
  {
   "cell_type": "code",
   "execution_count": 54,
   "metadata": {},
   "outputs": [
    {
     "name": "stdout",
     "output_type": "stream",
     "text": [
      "0\n"
     ]
    }
   ],
   "source": [
    "print(func_7(10,1))\n",
    "#조건이 맞지않음"
   ]
  },
  {
   "cell_type": "code",
   "execution_count": 60,
   "metadata": {},
   "outputs": [],
   "source": [
    "def func_8(x,y):\n",
    "    result=0\n",
    "    if(x>y):\n",
    "        for i in range(y,x+1,1):\n",
    "            result+=i\n",
    "    else:\n",
    "        for i in range(x,y+1,1):\n",
    "            result+=i\n",
    "    return result"
   ]
  },
  {
   "cell_type": "code",
   "execution_count": 61,
   "metadata": {},
   "outputs": [
    {
     "name": "stdout",
     "output_type": "stream",
     "text": [
      "55\n"
     ]
    }
   ],
   "source": [
    "print(func_8(10,1))"
   ]
  },
  {
   "cell_type": "code",
   "execution_count": 62,
   "metadata": {},
   "outputs": [],
   "source": [
    "def func_10(x,y):\n",
    "    result=0\n",
    "    i=min(x,y)\n",
    "    while i<=max(x,y):\n",
    "        result+=i\n",
    "        i+=1\n",
    "    return result"
   ]
  },
  {
   "cell_type": "code",
   "execution_count": 63,
   "metadata": {},
   "outputs": [
    {
     "name": "stdout",
     "output_type": "stream",
     "text": [
      "55\n"
     ]
    }
   ],
   "source": [
    "print(func_10(10,1))"
   ]
  },
  {
   "cell_type": "code",
   "execution_count": 74,
   "metadata": {},
   "outputs": [
    {
     "name": "stdout",
     "output_type": "stream",
     "text": [
      "3.0\n",
      "5.5\n"
     ]
    }
   ],
   "source": [
    "def func_11(*args):\n",
    "    a=len(args)\n",
    "    b=sum(args)\n",
    "    #sum=0\n",
    "    #for i in range(1,)\n",
    "    result=b/a\n",
    "    return result\n",
    "\n",
    "print(func_11(1,2,3,4,5))\n",
    "print(func_11(1,2,3,4,5,6,7,8,9,10))"
   ]
  },
  {
   "cell_type": "code",
   "execution_count": 78,
   "metadata": {},
   "outputs": [
    {
     "ename": "TypeError",
     "evalue": "unsupported operand type(s) for ** or pow(): 'str' and 'int'",
     "output_type": "error",
     "traceback": [
      "\u001b[1;31m---------------------------------------------------------------------------\u001b[0m",
      "\u001b[1;31mTypeError\u001b[0m                                 Traceback (most recent call last)",
      "\u001b[1;32md:\\python_HR\\20231119\\NewFile.ipynb Cell 30\u001b[0m line \u001b[0;36m7\n\u001b[0;32m      <a href='vscode-notebook-cell:/d%3A/python_HR/20231119/NewFile.ipynb#X41sZmlsZQ%3D%3D?line=3'>4</a>\u001b[0m         result\u001b[39m.\u001b[39mappend(a[i]\u001b[39m*\u001b[39m\u001b[39m*\u001b[39m\u001b[39m2\u001b[39m)\n\u001b[0;32m      <a href='vscode-notebook-cell:/d%3A/python_HR/20231119/NewFile.ipynb#X41sZmlsZQ%3D%3D?line=4'>5</a>\u001b[0m     \u001b[39mreturn\u001b[39;00m result\n\u001b[1;32m----> <a href='vscode-notebook-cell:/d%3A/python_HR/20231119/NewFile.ipynb#X41sZmlsZQ%3D%3D?line=6'>7</a>\u001b[0m \u001b[39mprint\u001b[39m(func_12([\u001b[39m1\u001b[39;49m,\u001b[39m2\u001b[39;49m,\u001b[39m3\u001b[39;49m,\u001b[39m4\u001b[39;49m]))\n",
      "\u001b[1;32md:\\python_HR\\20231119\\NewFile.ipynb Cell 30\u001b[0m line \u001b[0;36m4\n\u001b[0;32m      <a href='vscode-notebook-cell:/d%3A/python_HR/20231119/NewFile.ipynb#X41sZmlsZQ%3D%3D?line=1'>2</a>\u001b[0m result\u001b[39m=\u001b[39m[]\n\u001b[0;32m      <a href='vscode-notebook-cell:/d%3A/python_HR/20231119/NewFile.ipynb#X41sZmlsZQ%3D%3D?line=2'>3</a>\u001b[0m \u001b[39mfor\u001b[39;00m i \u001b[39min\u001b[39;00m \u001b[39mrange\u001b[39m(\u001b[39m0\u001b[39m,\u001b[39mlen\u001b[39m(_list),\u001b[39m1\u001b[39m):\n\u001b[1;32m----> <a href='vscode-notebook-cell:/d%3A/python_HR/20231119/NewFile.ipynb#X41sZmlsZQ%3D%3D?line=3'>4</a>\u001b[0m     result\u001b[39m.\u001b[39mappend(a[i]\u001b[39m*\u001b[39;49m\u001b[39m*\u001b[39;49m\u001b[39m2\u001b[39;49m)\n\u001b[0;32m      <a href='vscode-notebook-cell:/d%3A/python_HR/20231119/NewFile.ipynb#X41sZmlsZQ%3D%3D?line=4'>5</a>\u001b[0m \u001b[39mreturn\u001b[39;00m result\n",
      "\u001b[1;31mTypeError\u001b[0m: unsupported operand type(s) for ** or pow(): 'str' and 'int'"
     ]
    }
   ],
   "source": [
    "def func_12(_list):\n",
    "    result=[]\n",
    "    for i in range(0,len(_list),1):\n",
    "        result.append(a[i]**2)\n",
    "    return result\n",
    "\n",
    "print(func_12([1,2,3,4]))\n",
    "\n",
    "  #for i in _list:\n",
    "    #result.append(i**2)"
   ]
  },
  {
   "cell_type": "code",
   "execution_count": 79,
   "metadata": {},
   "outputs": [
    {
     "data": {
      "text/plain": [
       "[1, 4, 9, 16]"
      ]
     },
     "execution_count": 79,
     "metadata": {},
     "output_type": "execute_result"
    }
   ],
   "source": [
    "def func_12(x):\n",
    "    return x**2\n",
    "#map(호출할 함수명, 배열 데이터)\n",
    "list(\n",
    "    map(\n",
    "        func_12,\n",
    "        [1,2,3,4]\n",
    "    )\n",
    ")"
   ]
  },
  {
   "cell_type": "code",
   "execution_count": 81,
   "metadata": {},
   "outputs": [
    {
     "data": {
      "text/plain": [
       "[1, 4, 9, 16]"
      ]
     },
     "execution_count": 81,
     "metadata": {},
     "output_type": "execute_result"
    }
   ],
   "source": [
    "list(\n",
    "    map(\n",
    "        lambda x:x**2,\n",
    "        [1,2,3,4]\n",
    "    )\n",
    ")"
   ]
  },
  {
   "cell_type": "code",
   "execution_count": null,
   "metadata": {},
   "outputs": [],
   "source": [
    "#변수의 종류\n",
    "1.전역변수\n",
    "-어디서든 사용이 가능한 변수\n",
    "-함수 내부나 외부에서 사용이 가능하다\n",
    "2.지역변수-마치사투리 함수안에서만 작용\n",
    "-특정한 영역에서만 사용이 가능한 변수\n",
    "-해당 영역 벗어나면 사용 불가능\n",
    "-함수 클래스 내부에서만 사용\n",
    "3.매개변수\n",
    "-함수를 생성할 때 사용하는 변수의 이름\n",
    "해당하는 함수에서만 사용 가능\n",
    "매개변수는 지역변수 중 하나"
   ]
  },
  {
   "cell_type": "code",
   "execution_count": null,
   "metadata": {},
   "outputs": [],
   "source": [
    "클래스-속성:변수/매서드:클래스가 가지는 동작\n",
    "함수와 변수같이 있는 친구\n",
    "클래스 첫문자는 대문자\n",
    "\n",
    "상속\n",
    "a클래스에서 사용 중인 것들을 b클래스에서 사용하고 싶을 때\n",
    "-기존을 변경하지 않고 기능을 추가하거나 변경할 때\n",
    "\n",
    "모듈 : 기능들을 모아서 하나의 파일\n",
    "라이브러리 패키지 : 모듈모아둔거\n",
    "프레이머크...?"
   ]
  },
  {
   "cell_type": "code",
   "execution_count": null,
   "metadata": {},
   "outputs": [],
   "source": [
    "class\n",
    "    1.변수 + 함수 모음\n",
    "    2.하나의 저장 공간 안에 변수들과 함수들을 선언\n",
    "\n",
    "    -선언/생성/"
   ]
  },
  {
   "cell_type": "code",
   "execution_count": 9,
   "metadata": {},
   "outputs": [
    {
     "ename": "NameError",
     "evalue": "name 'a' is not defined",
     "output_type": "error",
     "traceback": [
      "\u001b[1;31m---------------------------------------------------------------------------\u001b[0m",
      "\u001b[1;31mNameError\u001b[0m                                 Traceback (most recent call last)",
      "\u001b[1;32md:\\python_HR\\test\\NewFile.ipynb Cell 36\u001b[0m line \u001b[0;36m1\n\u001b[0;32m     <a href='vscode-notebook-cell:/d%3A/python_HR/test/NewFile.ipynb#X51sZmlsZQ%3D%3D?line=9'>10</a>\u001b[0m test_class\u001b[39m=\u001b[39mClass_1(\u001b[39m20\u001b[39m,\u001b[39m10\u001b[39m)\n\u001b[0;32m     <a href='vscode-notebook-cell:/d%3A/python_HR/test/NewFile.ipynb#X51sZmlsZQ%3D%3D?line=10'>11</a>\u001b[0m test_class2\u001b[39m=\u001b[39mClass_1(\u001b[39m'\u001b[39m\u001b[39mHello\u001b[39m\u001b[39m'\u001b[39m,\u001b[39m'\u001b[39m\u001b[39mworld\u001b[39m\u001b[39m'\u001b[39m)\n\u001b[1;32m---> <a href='vscode-notebook-cell:/d%3A/python_HR/test/NewFile.ipynb#X51sZmlsZQ%3D%3D?line=12'>13</a>\u001b[0m \u001b[39mprint\u001b[39m(a)\n",
      "\u001b[1;31mNameError\u001b[0m: name 'a' is not defined"
     ]
    }
   ],
   "source": [
    "#클래스를 선언\n",
    "class Class_1:\n",
    "    #생성자 함수 : 클래스가 생성이 될 때 최초로 한번만 실행이 되는 함수 (필수항목아니지만 할수있는게많아짐)\n",
    "    #생성자 함수는 클래스 안에서 사용할 변수에 값을 지정\n",
    "    #저장할 값이 없으면 생성자함수안써도됨\n",
    "    def __init__(self,input_a,input_b):\n",
    "        self.a=input_a\n",
    "        self.b=input_b\n",
    "##self-내가 저장된 공간!!!!공간!!!\n",
    "#클래스를 생성\n",
    "test_class=Class_1(20,10)\n",
    "test_class2=Class_1('Hello','world')\n",
    "\n",
    "print(a)"
   ]
  },
  {
   "cell_type": "code",
   "execution_count": 11,
   "metadata": {},
   "outputs": [
    {
     "name": "stdout",
     "output_type": "stream",
     "text": [
      "20\n",
      "Hello\n"
     ]
    }
   ],
   "source": [
    "print(test_class.a)\n",
    "print(test_class2.a)"
   ]
  },
  {
   "cell_type": "code",
   "execution_count": 19,
   "metadata": {},
   "outputs": [],
   "source": [
    "class Class_2:\n",
    "    def __init__(self,input_a,input_b):\n",
    "        self.a=input_a\n",
    "        self.b=input_b\n",
    "    def add(self):\n",
    "        result=self.a+self.b\n",
    "        return result\n",
    "    def s(self):\n",
    "        result=self.a-self.b\n",
    "        return result\n",
    "    \n",
    "\n",
    "#class 생성\n",
    "test_class3=Class_2(10,3)\n",
    "test_class4=Class_2(20,8)\n"
   ]
  },
  {
   "cell_type": "code",
   "execution_count": 20,
   "metadata": {},
   "outputs": [
    {
     "name": "stdout",
     "output_type": "stream",
     "text": [
      "13\n"
     ]
    }
   ],
   "source": [
    "#class 안에 있는 함수를 호출\n",
    "print(test_class3.add())"
   ]
  },
  {
   "cell_type": "code",
   "execution_count": 26,
   "metadata": {},
   "outputs": [],
   "source": [
    "#상속\n",
    "class User:\n",
    "    def __init__(self,_name,_birth,_phone):\n",
    "        self.name=_name\n",
    "        self.birth=_birth\n",
    "        self.phone=_phone\n",
    "\n",
    "    def info(self):\n",
    "        return f'name:{self.name} birth:{self.birth} phone:{self.phone}'\n",
    "    "
   ]
  },
  {
   "cell_type": "code",
   "execution_count": 27,
   "metadata": {},
   "outputs": [],
   "source": [
    "user1=User('tset','900101','01012345678')\n",
    "user2=User('test2','800101','01098765432')"
   ]
  },
  {
   "cell_type": "code",
   "execution_count": 28,
   "metadata": {},
   "outputs": [
    {
     "name": "stdout",
     "output_type": "stream",
     "text": [
      "name:tset birth:900101 phone:01012345678\n"
     ]
    }
   ],
   "source": [
    "print(user1.info())"
   ]
  },
  {
   "cell_type": "code",
   "execution_count": 64,
   "metadata": {},
   "outputs": [],
   "source": [
    "class Wallet(User):\n",
    "    def __init__(\n",
    "            self, \n",
    "            _name,\n",
    "            _birth,\n",
    "            _phone,\n",
    "            _balance=0\n",
    "            ):\n",
    "        super().__init__(_name,_birth,_phone)\n",
    "        self.balance=_balance\n",
    "#class안에서 반드시 들어가야하는 매개변수-self\n",
    "    def work(self,_type):\n",
    "        if _type=='사무직':\n",
    "            self.balance+=100000\n",
    "        elif _type=='현장직':\n",
    "            self.balance+=110000\n",
    "        elif _type=='관리직':\n",
    "            self.balance+=150000\n",
    "        else:\n",
    "            return '일의 종류가 맞지 않습니다.'\n",
    "        return f'{_type}의 일을 완료하였습니다. 현지 지갑의 잔액은 {self.balance}입니다.'\n",
    "    #return 두번쓰이는 일은 거의 else밖에없다\n",
    "#오버라이드 : 기존의 info() 함수가 하는 행동을 Wallet에서는 다른 행동으로 변경\n",
    "def info(self):\n",
    "    return f'지갑의 소유자는 {self.name}이고 잔액은 {self.balance}입니다'\n",
    "\n",
    "def flex(self,_type):\n",
    "    if _type=='가방':\n",
    "        if self.balance>=5000000:\n",
    "            self.balance-=5000000\n",
    "            result=f'{_type}구매가 완료되었습니다.'\n",
    "        else:\n",
    "            result='지갑의 잔액이 부족합니다. 일을 좀 더 하세요'\n",
    "    elif _type=='맥북':\n",
    "        if self.balance>=2000000:\n",
    "            self.balance-=2000000\n",
    "            result=f'{_type}구매가 완료되었습니다.'\n",
    "        else:\n",
    "            result='지갑의 잔액이 부족합니다. 일을 좀 더 하세요'\n",
    "    else:\n",
    "        result='물품 종류가 존재하지 않습니다.'\n",
    "    return result"
   ]
  },
  {
   "cell_type": "code",
   "execution_count": 65,
   "metadata": {},
   "outputs": [],
   "source": [
    "wallet1 = Wallet('test','800101','01012345678')\n",
    "wallet2 = Wallet('test2','900101','01099875612','500000')"
   ]
  },
  {
   "cell_type": "code",
   "execution_count": 66,
   "metadata": {},
   "outputs": [
    {
     "data": {
      "text/plain": [
       "'현장직의 일을 완료하였습니다. 현지 지갑의 잔액은 110000입니다.'"
      ]
     },
     "execution_count": 66,
     "metadata": {},
     "output_type": "execute_result"
    }
   ],
   "source": [
    "wallet1.work('현장직')"
   ]
  },
  {
   "cell_type": "code",
   "execution_count": 67,
   "metadata": {},
   "outputs": [
    {
     "data": {
      "text/plain": [
       "'name:test birth:800101 phone:01012345678'"
      ]
     },
     "execution_count": 67,
     "metadata": {},
     "output_type": "execute_result"
    }
   ],
   "source": [
    "wallet1.info()"
   ]
  },
  {
   "cell_type": "code",
   "execution_count": null,
   "metadata": {},
   "outputs": [],
   "source": [
    "##클래스변수\n"
   ]
  },
  {
   "cell_type": "code",
   "execution_count": null,
   "metadata": {},
   "outputs": [],
   "source": [
    "매우많은 빈칸..."
   ]
  },
  {
   "cell_type": "code",
   "execution_count": null,
   "metadata": {},
   "outputs": [],
   "source": []
  }
 ],
 "metadata": {
  "kernelspec": {
   "display_name": "Python 3",
   "language": "python",
   "name": "python3"
  },
  "language_info": {
   "codemirror_mode": {
    "name": "ipython",
    "version": 3
   },
   "file_extension": ".py",
   "mimetype": "text/x-python",
   "name": "python",
   "nbconvert_exporter": "python",
   "pygments_lexer": "ipython3",
   "version": "3.12.0"
  }
 },
 "nbformat": 4,
 "nbformat_minor": 2
}
